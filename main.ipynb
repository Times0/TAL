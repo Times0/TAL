{
 "cells": [
  {
   "cell_type": "code",
   "execution_count": 141,
   "metadata": {},
   "outputs": [],
   "source": [
    "import pandas as pd\n",
    "\n",
    "df = pd.read_csv('test.tsv', sep='\\t')"
   ]
  },
  {
   "cell_type": "code",
   "execution_count": 142,
   "metadata": {},
   "outputs": [
    {
     "name": "stdout",
     "output_type": "stream",
     "text": [
      "['business' 'health' 'politics' 'sports' 'technology']\n",
      "category\n",
      "business      100\n",
      "health        100\n",
      "politics      100\n",
      "sports        100\n",
      "technology     22\n",
      "Name: count, dtype: int64\n"
     ]
    }
   ],
   "source": [
    "print(df['category'].unique())\n",
    "# count number of each category\n",
    "print(df['category'].value_counts())"
   ]
  },
  {
   "cell_type": "code",
   "execution_count": 143,
   "metadata": {},
   "outputs": [],
   "source": [
    "from sklearn.preprocessing import LabelEncoder\n",
    "clean_df = df.copy()\n",
    "\n",
    "clean_df.drop('url', axis=1, inplace=True)\n",
    "le = LabelEncoder()\n",
    "clean_df['category'] = le.fit_transform(df['category'])"
   ]
  },
  {
   "cell_type": "code",
   "execution_count": 144,
   "metadata": {},
   "outputs": [],
   "source": [
    "from datasets import Dataset\n",
    "\n",
    "dataset = Dataset.from_pandas(clean_df)\n",
    "data = dataset.train_test_split(test_size=0.2, shuffle=True)"
   ]
  },
  {
   "cell_type": "code",
   "execution_count": 145,
   "metadata": {},
   "outputs": [],
   "source": [
    "from transformers import AutoTokenizer\n",
    "\n",
    "model_name = 'almanach/camembert-base'\n",
    "tokenizer = AutoTokenizer.from_pretrained(model_name)"
   ]
  },
  {
   "cell_type": "code",
   "execution_count": 146,
   "metadata": {},
   "outputs": [],
   "source": [
    "def tokenize_function(examples):\n",
    "    return tokenizer(examples[\"headline\"], truncation=True)"
   ]
  },
  {
   "cell_type": "code",
   "execution_count": 147,
   "metadata": {},
   "outputs": [
    {
     "name": "stderr",
     "output_type": "stream",
     "text": [
      "Map:   0%|          | 0/337 [00:00<?, ? examples/s]"
     ]
    },
    {
     "name": "stderr",
     "output_type": "stream",
     "text": [
      "Map: 100%|██████████| 337/337 [00:00<00:00, 4152.00 examples/s]\n",
      "Map: 100%|██████████| 85/85 [00:00<00:00, 4068.93 examples/s]\n"
     ]
    }
   ],
   "source": [
    "tokenized_data = data.map(tokenize_function, batched=True)"
   ]
  },
  {
   "cell_type": "code",
   "execution_count": 148,
   "metadata": {},
   "outputs": [
    {
     "data": {
      "text/plain": [
       "{'category': 1,\n",
       " 'headline': 'Troubles digestifs fonctionnels : comment la constipation est devenue un tabou',\n",
       " 'text': 'L\\'histoire raconte que Napoléon Bonaparte est arrivé en retard à la bataille de Waterloo - au cours de laquelle son armée a fini par être renversée - parce qu\\'à ce moment-là, il était très occupé dans la salle de bains, s\\'efforçant de déféquer. Mais bien que la constipation ait affligé le général français pendant des années et qu\\'une personne sur sept dans le monde connaisse ce problème, le processus biologique d\\'élimination des matières fécales est un sujet dont on parle très peu. Des millions de personnes souffrent en silence des effets de la constipation chronique, un problème dont la solution, selon les experts, ne dépend pas exclusivement du régime alimentaire mais aussi d\\'un changement mental qui nous permet d\\'en parler et de nous libérer ainsi du poids que ce tabou implique. Lire aussi : \"On nous entraîne dès l\\'enfance à quitter nos couches, mais ensuite personne ne vérifie comment nous allons. À partir de là, nous nous occupons de nous-mêmes\", a déclaré à la BBC Anton Emmanuel, médecin spécialiste de la santé intestinale à l\\'University College Hospital de Londres. Pour comprendre exactement ce qu\\'est la constipation, commençons par expliquer comment se déroule le processus depuis l\\'entrée des aliments par la bouche jusqu\\'à la sortie des déchets transformés en matières fécales par l\\'anus. Lorsque nous ingérons et mâchons un aliment, celui-ci commence son voyage dans le système digestif. Une fois que nous l\\'avons digéré avec l\\'aide des substances chimiques que notre corps produit, les bactéries commencent progressivement à travailler sur ces débris qui passent dans l\\'intestin. Au moment où ils atteignent le côlon, tous les nutriments ont déjà été absorbés. Et après environ 15 ou 18 heures passées là, notre corps élimine ces déchets. \"Ce qui se passe en cas de constipation, c\\'est que la mobilité dans l\\'intestin est ralentie\", explique Anton Emmanuel. On estime qu\\'une personne peut souffrir de constipation si elle ne bouge pas son corps au moins trois fois par semaine, et si les selles sont grosses et dures, ou sèches et formées de grumeaux, et si elle doit faire beaucoup d\\'efforts pour aller aux toilettes ou ressentir des douleurs. La constipation en elle-même n\\'est pas dangereuse, car tant que les matières fécales se trouvent dans le côlon, elles ne provoquent aucune toxicité (le côlon est préparé à les contenir). Cependant, la personne peut se sentir mal à l\\'aise et craindre que l\\'envie d\\'évacuer ne survienne à un moment inopportun. \"C\\'est un poids énorme pour le patient car (cela a un impact) sur ce qu\\'il peut manger, comment il peut s\\'habiller et quand il peut se socialiser, ce qui est un gros problème dans tout cela\", explique Anton Emmanuel. En outre, d\\'après ce que nous savons aujourd\\'hui de la relation entre le cerveau et l\\'intestin, \"la constipation peut modifier notre humeur\", a déclaré à la BBC Miguel Toribio-Mateas, neuroscientifique à la London South Bank University. Cela peut affecter davantage les femmes, car certaines hormones qui sont normalement éliminées avec les matières fécales restent en circulation dans l\\'organisme et s\\'accumulent, augmentant ainsi leur taux. Ainsi, les femmes en âge de procréer, étant constipées, peuvent ressentir le \"double impact des œstrogènes ou de la progestérone ou de l\\'hormone qu\\'elles produisent ce jour-là et qui n\\'a pas pu être expulsée du corps (par les selles)\". C\\'est pourquoi ce sont elles qui ont tendance à se plaindre le plus des effets de la constipation. Indépendamment du sexe, \"selon la prédisposition génétique ainsi que selon le type de comportement et la personnalité, certaines personnes se sentent moins encouragées et d\\'autres plus excitées\", précise Toribio Mateas. Nous n\\'oublions pas non plus les symptômes physiques qui accompagnent la constipation et qui comprennent, entre autres, des nausées, des gonflements, des maux de tête et une gêne ou une douleur dans la région. Selon Anton Emmanuel, le patient typique est une femme d\\'une trentaine d\\'années qui souffre de constipation depuis l\\'adolescence (générée par des situations ou des expériences qui ne sont pas liées à un problème médical), et qui ne cherche une aide médicale qu\\'après une longue période. Elle le fait généralement motivée par le diagnostic d\\'un problème grave dans l\\'intestin d\\'un membre de sa famille ou d\\'un collègue de travail. Bien que, malheureusement, les médecins ne prennent pas toujours ce problème suffisamment au sérieux étant donné qu\\'il s\\'agit d\\'une affection très répandue. \"Ironiquement, parce que c\\'est un problème si répandu, beaucoup ne le considèrent pas comme un symptôme\", déclare M. Emmanuel. La constipation ne touche pas seulement les adultes, on estime qu\\'un enfant sur trois en souffre à un moment donné. Quant aux causes, \"la plupart des patients ont un problème soit avec la vitesse de contraction de leur intestin - c\\'est-à-dire la vitesse à laquelle les choses y passent - soit avec le fonctionnement de leur plancher pelvien, ou les deux\", affirme Anton  Emmanuel. Autrement dit, ce n\\'est \"pas la faute du patient qui n\\'a pas bien mangé ou fait assez d\\'exercice\", précise-t-il. Il ne s\\'agit donc pas d\\'un problème que l\\'on peut résoudre en mangeant des prunes ou des aliments stimulants pour l\\'intestin, car cela ne résout la situation que temporairement. Si aujourd\\'hui il n\\'est pas \"bien vu\" de parler des selles, il n\\'en a pas toujours été ainsi. \"Au Moyen Âge, dans les textes littéraires et médicaux, la question des excréments est omniprésente\", explique l\\'historienne de la médecine Louise Foxcroft à la BBC, ajoutant qu\\'auparavant, il n\\'y avait pas autant d\\'intimité autour de l\\'utilisation des toilettes. \"Imaginez Londres au dix-huitième siècle, avant le système d\\'égouts. Il y avait des charrettes qui traversaient la ville pour ramasser les excréments (qu\\'on jetait par les fenêtres ou qui étaient éparpillés partout) et les emmenaient pour fertiliser les champs.\" Le secret s\\'est développé en même temps que les villes industrielles. \"L\\'idée de la vie privée est apparue au XIXe siècle, en particulier en Occident, lorsque la vie en ville s\\'est popularisée et que les gens ont commencé à vivre dans des endroits surpeuplés, que des égouts ont été construits et que des salles de bain sont apparues\", explique Louise Foxcroft. \"La familiarité avec le fonctionnement du corps était bien plus grande avant qu\\'aujourd\\'hui\", ajoute-t-elle. Au XVIIIe siècle, par exemple, la constipation était un sujet exploré par certains des grands écrivains de l\\'époque. \"Voltaire disait que les personnes qui bougent leur corps régulièrement et facilement tous les matins sont les préférées de la nature. Elles sont douces, affables, gracieuses, réfléchies, accommodantes et efficaces. Et un non sortant de leur bouche a plus de grâce qu\\'un oui sortant de la bouche d\\'un constipé\", explique l\\'historienne. La division entre l\\'esprit et le corps est une séparation philosophique relativement récente. \"On pensait autrefois que c\\'était dans les tripes que les émotions s\\'installaient, et non dans le cœur\", explique Mme Foxcroft, ajoutant que dans la poésie médiévale, on trouve de nombreux thèmes sur les excréments et l\\'amour, deux choses que l\\'on partage avec la personne que l\\'on aime. Solutions Au-delà des changements d\\'attitude vis-à-vis de la constipation, ce que beaucoup se demandent aujourd\\'hui, c\\'est ce qu\\'il faut faire pour ne pas en souffrir. \"Il faut une certaine quantité de fibres (solubles et insolubles) pour que les selles se forment et, bien souvent, on n\\'en consomme pas assez\", explique M. Toribio-Mateas. Avant tout, il est important de consommer une variété de fruits et de légumes (y compris les légumes à feuilles), des légumineuses, des graines, des noix et, idéalement, des céréales complètes. Anton Emmanuel suggère en plus d\\'une alimentation plus équilibrée - manger au moins trois fois par jour - de boire davantage, de marcher plus à l\\'intérieur ou à l\\'extérieur de la maison, et si cela ne fonctionne pas, d\\'utiliser des laxatifs doux, et surtout, \"quand le corps le demande, ne pas ignorer l\\'envie parce que ce n\\'est pas le bon moment, et aller aux toilettes\". \"De même, lorsque vous êtes là, ne restez pas longtemps. Quand vous avez fait ce que vous aviez à faire, n\\'attendez pas pour en faire plus\", ajoute-t-il. Toribio-Mateas recommande, pour briser le tabou, \"d\\'emmener un livre que vous aimez aux toilettes, de mettre de la musique... de penser à des moyens alternatifs. Essayez d\\'imiter la situation où vous vous rendez dans la salle de bains pour prendre un bain, où vous feriez des choses pour vous sentir détendu.\" \"Ne vous sentez pas bizarre en faisant cela. Pensez que vous travaillez sur la communication entre votre cerveau et vos tripes.\" Il recommande également de parler du problème, de le normaliser et de le partager avec d\\'autres personnes. \"Lorsque vous parlez à quelqu\\'un de quelque chose qui vous rend malheureux, c\\'est comme si on vous enlevait un poids des épaules\", dit-il. Comme le dit le dicton, \"les chagrins partagés pèsent moins\".',\n",
       " 'input_ids': [5,\n",
       "  10631,\n",
       "  8690,\n",
       "  20817,\n",
       "  10,\n",
       "  8399,\n",
       "  10,\n",
       "  43,\n",
       "  404,\n",
       "  13,\n",
       "  31394,\n",
       "  30,\n",
       "  3477,\n",
       "  23,\n",
       "  12164,\n",
       "  6],\n",
       " 'attention_mask': [1, 1, 1, 1, 1, 1, 1, 1, 1, 1, 1, 1, 1, 1, 1, 1]}"
      ]
     },
     "execution_count": 148,
     "metadata": {},
     "output_type": "execute_result"
    }
   ],
   "source": [
    "tokenized_data[\"train\"][0]"
   ]
  },
  {
   "cell_type": "code",
   "execution_count": 149,
   "metadata": {},
   "outputs": [
    {
     "name": "stdout",
     "output_type": "stream",
     "text": [
      "12\n",
      "['<s>', '▁CAN', '▁2019', '▁:', '▁bientôt', '▁la', '▁coupe', '▁pour', '▁le', '▁Sénégal', '▁?', '</s>']\n",
      "512\n"
     ]
    }
   ],
   "source": [
    "tokens = tokenizer.convert_ids_to_tokens(tokenized_data['train'][5][\"input_ids\"])\n",
    "print(len(tokens))\n",
    "print(tokens)\n",
    "print(tokenizer.model_max_length)"
   ]
  },
  {
   "cell_type": "code",
   "execution_count": 150,
   "metadata": {},
   "outputs": [],
   "source": [
    "import evaluate\n",
    "\n",
    "accuracy = evaluate.load(\"accuracy\")\n",
    "f1_metric = evaluate.load(\"f1\")\n",
    "\n",
    "def compute_metrics(pred):\n",
    "    labels = pred.label_ids\n",
    "    preds = pred.predictions.argmax(-1)\n",
    "    f1 = f1_metric.compute(predictions=preds, references=labels)\n",
    "    acc = accuracy.compute(predictions=preds, references=labels, average=\"macro\")\n",
    "    return {\"accuracy\": acc[\"accuracy\"], \"f1\": f1[\"f1\"]}"
   ]
  },
  {
   "cell_type": "markdown",
   "metadata": {},
   "source": [
    "# Training"
   ]
  },
  {
   "cell_type": "code",
   "execution_count": 151,
   "metadata": {},
   "outputs": [],
   "source": [
    "import torch\n",
    "from transformers import TrainingArguments\n",
    "device = 'cuda' if torch.cuda.is_available() else 'cpu'"
   ]
  },
  {
   "cell_type": "code",
   "execution_count": 152,
   "metadata": {},
   "outputs": [],
   "source": [
    "batch_size = 64\n",
    "training_args = TrainingArguments(\n",
    "    output_dir=\"./results\",\n",
    "    num_train_epochs=3,\n",
    "    per_device_train_batch_size=batch_size,\n",
    "    per_device_eval_batch_size=batch_size,\n",
    "    warmup_steps=500,\n",
    "    weight_decay=0.01,\n",
    "    logging_dir=\"./logs\",\n",
    "    logging_steps=10,\n",
    "    evaluation_strategy=\"steps\",\n",
    "    eval_steps=10,\n",
    "    load_best_model_at_end=True,\n",
    "    metric_for_best_model=\"f1\",\n",
    ")"
   ]
  },
  {
   "cell_type": "code",
   "execution_count": 153,
   "metadata": {},
   "outputs": [
    {
     "name": "stdout",
     "output_type": "stream",
     "text": [
      "{'business': 0, 'health': 1, 'politics': 2, 'sports': 3, 'technology': 4} {0: 'business', 1: 'health', 2: 'politics', 3: 'sports', 4: 'technology'} ['business' 'health' 'politics' 'sports' 'technology']\n"
     ]
    }
   ],
   "source": [
    "class_names = le.classes_\n",
    "label2id = {label: i for i, label in enumerate(le.classes_)}\n",
    "id2label = {i: label for label, i in label2id.items()}\n",
    "print(label2id, id2label, class_names)"
   ]
  },
  {
   "cell_type": "code",
   "execution_count": 154,
   "metadata": {},
   "outputs": [],
   "source": [
    "from transformers import AutoTokenizer, DataCollatorWithPadding, AutoModelForSequenceClassification, TrainingArguments, Trainer\n",
    "data_collator = DataCollatorWithPadding(tokenizer=tokenizer)\n",
    "\n",
    "def init_trainer():\n",
    "  model = AutoModelForSequenceClassification.from_pretrained(\n",
    "    model_name, num_labels=len(class_names), id2label=id2label, label2id=label2id\n",
    "    ).to(device)\n",
    "  return Trainer(\n",
    "      model=model,\n",
    "      args=training_args,\n",
    "      train_dataset=tokenized_data[\"train\"],\n",
    "      eval_dataset=tokenized_data[\"test\"],\n",
    "      tokenizer=tokenizer,\n",
    "      data_collator=data_collator,\n",
    "      compute_metrics=compute_metrics,\n",
    "  ), model"
   ]
  },
  {
   "cell_type": "code",
   "execution_count": 155,
   "metadata": {},
   "outputs": [
    {
     "ename": "ImportError",
     "evalue": "\nAutoModelForSequenceClassification requires the PyTorch library but it was not found in your environment. Checkout the instructions on the\ninstallation page: https://pytorch.org/get-started/locally/ and follow the ones that match your environment.\nPlease note that you may need to restart your runtime after installation.\n",
     "output_type": "error",
     "traceback": [
      "\u001b[1;31m---------------------------------------------------------------------------\u001b[0m",
      "\u001b[1;31mImportError\u001b[0m                               Traceback (most recent call last)",
      "Cell \u001b[1;32mIn[155], line 1\u001b[0m\n\u001b[1;32m----> 1\u001b[0m trainer, model \u001b[38;5;241m=\u001b[39m \u001b[43minit_trainer\u001b[49m\u001b[43m(\u001b[49m\u001b[43m)\u001b[49m\n\u001b[0;32m      2\u001b[0m trainer\u001b[38;5;241m.\u001b[39mtrain()\n",
      "Cell \u001b[1;32mIn[154], line 5\u001b[0m, in \u001b[0;36minit_trainer\u001b[1;34m()\u001b[0m\n\u001b[0;32m      4\u001b[0m \u001b[38;5;28;01mdef\u001b[39;00m \u001b[38;5;21minit_trainer\u001b[39m():\n\u001b[1;32m----> 5\u001b[0m   model \u001b[38;5;241m=\u001b[39m \u001b[43mAutoModelForSequenceClassification\u001b[49m\u001b[38;5;241;43m.\u001b[39;49m\u001b[43mfrom_pretrained\u001b[49m(\n\u001b[0;32m      6\u001b[0m     model_name, num_labels\u001b[38;5;241m=\u001b[39m\u001b[38;5;28mlen\u001b[39m(class_names), id2label\u001b[38;5;241m=\u001b[39mid2label, label2id\u001b[38;5;241m=\u001b[39mlabel2id\n\u001b[0;32m      7\u001b[0m     )\u001b[38;5;241m.\u001b[39mto(device)\n\u001b[0;32m      8\u001b[0m   \u001b[38;5;28;01mreturn\u001b[39;00m Trainer(\n\u001b[0;32m      9\u001b[0m       model\u001b[38;5;241m=\u001b[39mmodel,\n\u001b[0;32m     10\u001b[0m       args\u001b[38;5;241m=\u001b[39mtraining_args,\n\u001b[1;32m   (...)\u001b[0m\n\u001b[0;32m     15\u001b[0m       compute_metrics\u001b[38;5;241m=\u001b[39mcompute_metrics,\n\u001b[0;32m     16\u001b[0m   ), model\n",
      "File \u001b[1;32mc:\\Programmation\\School\\TPS\\TAL\\.venv\\Lib\\site-packages\\transformers\\utils\\import_utils.py:1450\u001b[0m, in \u001b[0;36mDummyObject.__getattribute__\u001b[1;34m(cls, key)\u001b[0m\n\u001b[0;32m   1448\u001b[0m \u001b[38;5;28;01mif\u001b[39;00m key\u001b[38;5;241m.\u001b[39mstartswith(\u001b[38;5;124m\"\u001b[39m\u001b[38;5;124m_\u001b[39m\u001b[38;5;124m\"\u001b[39m) \u001b[38;5;129;01mand\u001b[39;00m key \u001b[38;5;241m!=\u001b[39m \u001b[38;5;124m\"\u001b[39m\u001b[38;5;124m_from_config\u001b[39m\u001b[38;5;124m\"\u001b[39m:\n\u001b[0;32m   1449\u001b[0m     \u001b[38;5;28;01mreturn\u001b[39;00m \u001b[38;5;28msuper\u001b[39m()\u001b[38;5;241m.\u001b[39m\u001b[38;5;21m__getattribute__\u001b[39m(key)\n\u001b[1;32m-> 1450\u001b[0m \u001b[43mrequires_backends\u001b[49m\u001b[43m(\u001b[49m\u001b[38;5;28;43mcls\u001b[39;49m\u001b[43m,\u001b[49m\u001b[43m \u001b[49m\u001b[38;5;28;43mcls\u001b[39;49m\u001b[38;5;241;43m.\u001b[39;49m\u001b[43m_backends\u001b[49m\u001b[43m)\u001b[49m\n",
      "File \u001b[1;32mc:\\Programmation\\School\\TPS\\TAL\\.venv\\Lib\\site-packages\\transformers\\utils\\import_utils.py:1438\u001b[0m, in \u001b[0;36mrequires_backends\u001b[1;34m(obj, backends)\u001b[0m\n\u001b[0;32m   1436\u001b[0m failed \u001b[38;5;241m=\u001b[39m [msg\u001b[38;5;241m.\u001b[39mformat(name) \u001b[38;5;28;01mfor\u001b[39;00m available, msg \u001b[38;5;129;01min\u001b[39;00m checks \u001b[38;5;28;01mif\u001b[39;00m \u001b[38;5;129;01mnot\u001b[39;00m available()]\n\u001b[0;32m   1437\u001b[0m \u001b[38;5;28;01mif\u001b[39;00m failed:\n\u001b[1;32m-> 1438\u001b[0m     \u001b[38;5;28;01mraise\u001b[39;00m \u001b[38;5;167;01mImportError\u001b[39;00m(\u001b[38;5;124m\"\u001b[39m\u001b[38;5;124m\"\u001b[39m\u001b[38;5;241m.\u001b[39mjoin(failed))\n",
      "\u001b[1;31mImportError\u001b[0m: \nAutoModelForSequenceClassification requires the PyTorch library but it was not found in your environment. Checkout the instructions on the\ninstallation page: https://pytorch.org/get-started/locally/ and follow the ones that match your environment.\nPlease note that you may need to restart your runtime after installation.\n"
     ]
    }
   ],
   "source": [
    "trainer, model = init_trainer()\n",
    "trainer.train()"
   ]
  }
 ],
 "metadata": {
  "kernelspec": {
   "display_name": ".venv",
   "language": "python",
   "name": "python3"
  },
  "language_info": {
   "codemirror_mode": {
    "name": "ipython",
    "version": 3
   },
   "file_extension": ".py",
   "mimetype": "text/x-python",
   "name": "python",
   "nbconvert_exporter": "python",
   "pygments_lexer": "ipython3",
   "version": "3.11.8"
  }
 },
 "nbformat": 4,
 "nbformat_minor": 2
}
